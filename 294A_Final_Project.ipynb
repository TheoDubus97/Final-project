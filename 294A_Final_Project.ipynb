{
 "cells": [
  {
   "cell_type": "markdown",
   "metadata": {},
   "source": [
    "<div align=\"center\">\n",
    "\n",
    "# Final Project\n",
    "\n",
    "ECON 294A Python Lab, Spring 2024, UC Santa Cruz\n",
    "\n",
    "Theo Dubus\n",
    "\n",
    "</div>"
   ]
  },
  {
   "cell_type": "markdown",
   "metadata": {},
   "source": [
    "# Summary"
   ]
  },
  {
   "cell_type": "markdown",
   "metadata": {},
   "source": [
    "This data was originally gathered as part of my independent study into residential solar adoption rates around the 2018 wildfire events. However, I am taking a different approach with this analysis by omitting the effects of the wildfire events and looking solely at the factors affecting solar adoption across counties in 2019. "
   ]
  },
  {
   "cell_type": "markdown",
   "metadata": {},
   "source": [
    "# Data"
   ]
  },
  {
   "cell_type": "markdown",
   "metadata": {},
   "source": [
    "Due to the data I was able to gather, my analysis is a truncated version of what I intended in the proposal. Nevertheless, it will be helpful in gaining preliminary insights.\n",
    "\n",
    "This data comes from two main sources: \n",
    "\n",
    "1. Demographic data was downloaded from the American Community Survey 5-Year estimates for 2019. Vairables include:\n",
    "    - Median age of house holder, which measures only the head of household for the occupant of an owned or rented housing unit. This omits other factors in age like the presence of children, looking only at the age of those directly involved with the decison to adopt solar power for the property.\n",
    "    - Median income\n",
    "    - Percent of owners vs renters in the county\n",
    "    - Education, measured seperately: percent of people who graduated high school, attained some college, and earned a bachelor's degree or higher.\n",
    "    - Race: multiple racial groups were originionally downloaded in the data, but only 'Race_White' was kept to reduce bias in the estimates. Chnages in the white population are highly correlated with changes in multiple other groups simultaneously (for example, black and hispanic), so this caused too much self-correlation with the data.\n",
    "\n",
    "2. Solar Installations per capita was calculated using the Distributed Generation Statistics dataset from the California Public Utilities Commission. Data was aggregated for each of the 53 counties studied in 2019. This was divided by the population in each county in 2019 gathered from the ACS.\n",
    "\n"
   ]
  },
  {
   "cell_type": "code",
   "execution_count": 51,
   "metadata": {},
   "outputs": [],
   "source": [
    "# Load packages\n",
    "import pandas as pd\n",
    "import numpy as np\n",
    "import matplotlib.pyplot as plt\n",
    "import statsmodels.formula.api as smf\n"
   ]
  },
  {
   "cell_type": "code",
   "execution_count": 52,
   "metadata": {},
   "outputs": [],
   "source": [
    "# Load data\n",
    "TD0 = pd.read_csv('data/Test_Data_2.csv')\n"
   ]
  },
  {
   "cell_type": "code",
   "execution_count": 53,
   "metadata": {},
   "outputs": [
    {
     "data": {
      "text/html": [
       "<div>\n",
       "<style scoped>\n",
       "    .dataframe tbody tr th:only-of-type {\n",
       "        vertical-align: middle;\n",
       "    }\n",
       "\n",
       "    .dataframe tbody tr th {\n",
       "        vertical-align: top;\n",
       "    }\n",
       "\n",
       "    .dataframe thead th {\n",
       "        text-align: right;\n",
       "    }\n",
       "</style>\n",
       "<table border=\"1\" class=\"dataframe\">\n",
       "  <thead>\n",
       "    <tr style=\"text-align: right;\">\n",
       "      <th></th>\n",
       "      <th>Unnamed: 0</th>\n",
       "      <th>FEMA</th>\n",
       "      <th>FEMA_Adjascent</th>\n",
       "      <th>Median_Income</th>\n",
       "      <th>Percent_Own</th>\n",
       "      <th>Med_Home_Price</th>\n",
       "      <th>IPC_BEFORE</th>\n",
       "      <th>IPC_AFTER</th>\n",
       "      <th>County</th>\n",
       "      <th>Median_Age_House_Holder</th>\n",
       "      <th>Educ_HS_Grad</th>\n",
       "      <th>Educ_Some_College</th>\n",
       "      <th>Educ_Bachelor_or_Higher</th>\n",
       "      <th>Race_White</th>\n",
       "      <th>Race_Black_AA</th>\n",
       "      <th>Race_American_Indian_and_Alaska_Native</th>\n",
       "      <th>Race_Asian</th>\n",
       "      <th>Race_Native_Hawaiian_and_Other_Pacific_Islander</th>\n",
       "      <th>Race_Hispanic_or_Latino_origin</th>\n",
       "    </tr>\n",
       "  </thead>\n",
       "  <tbody>\n",
       "    <tr>\n",
       "      <th>0</th>\n",
       "      <td>1</td>\n",
       "      <td>0</td>\n",
       "      <td>0</td>\n",
       "      <td>49580</td>\n",
       "      <td>0.535176</td>\n",
       "      <td>910500.0</td>\n",
       "      <td>0.000032</td>\n",
       "      <td>0.000032</td>\n",
       "      <td>Alameda</td>\n",
       "      <td>49</td>\n",
       "      <td>0.144</td>\n",
       "      <td>0.249</td>\n",
       "      <td>0.518</td>\n",
       "      <td>0.468</td>\n",
       "      <td>0.124</td>\n",
       "      <td>0.007</td>\n",
       "      <td>0.273</td>\n",
       "      <td>0.007</td>\n",
       "      <td>0.164</td>\n",
       "    </tr>\n",
       "    <tr>\n",
       "      <th>1</th>\n",
       "      <td>3</td>\n",
       "      <td>0</td>\n",
       "      <td>0</td>\n",
       "      <td>35010</td>\n",
       "      <td>0.765040</td>\n",
       "      <td>323000.0</td>\n",
       "      <td>0.008503</td>\n",
       "      <td>0.009786</td>\n",
       "      <td>Amador</td>\n",
       "      <td>61</td>\n",
       "      <td>0.233</td>\n",
       "      <td>0.471</td>\n",
       "      <td>0.233</td>\n",
       "      <td>0.929</td>\n",
       "      <td>0.001</td>\n",
       "      <td>0.005</td>\n",
       "      <td>0.008</td>\n",
       "      <td>0.000</td>\n",
       "      <td>0.084</td>\n",
       "    </tr>\n",
       "    <tr>\n",
       "      <th>2</th>\n",
       "      <td>4</td>\n",
       "      <td>1</td>\n",
       "      <td>0</td>\n",
       "      <td>28642</td>\n",
       "      <td>0.589909</td>\n",
       "      <td>358875.0</td>\n",
       "      <td>0.009741</td>\n",
       "      <td>0.013413</td>\n",
       "      <td>Butte</td>\n",
       "      <td>53</td>\n",
       "      <td>0.192</td>\n",
       "      <td>0.435</td>\n",
       "      <td>0.292</td>\n",
       "      <td>0.870</td>\n",
       "      <td>0.012</td>\n",
       "      <td>0.012</td>\n",
       "      <td>0.031</td>\n",
       "      <td>0.001</td>\n",
       "      <td>0.116</td>\n",
       "    </tr>\n",
       "    <tr>\n",
       "      <th>3</th>\n",
       "      <td>5</td>\n",
       "      <td>0</td>\n",
       "      <td>0</td>\n",
       "      <td>30442</td>\n",
       "      <td>0.777535</td>\n",
       "      <td>339750.0</td>\n",
       "      <td>0.001155</td>\n",
       "      <td>0.001155</td>\n",
       "      <td>Calaveras</td>\n",
       "      <td>61</td>\n",
       "      <td>0.221</td>\n",
       "      <td>0.486</td>\n",
       "      <td>0.221</td>\n",
       "      <td>0.926</td>\n",
       "      <td>0.005</td>\n",
       "      <td>0.009</td>\n",
       "      <td>0.015</td>\n",
       "      <td>0.001</td>\n",
       "      <td>0.084</td>\n",
       "    </tr>\n",
       "    <tr>\n",
       "      <th>4</th>\n",
       "      <td>7</td>\n",
       "      <td>0</td>\n",
       "      <td>0</td>\n",
       "      <td>46590</td>\n",
       "      <td>0.659231</td>\n",
       "      <td>662500.0</td>\n",
       "      <td>0.005066</td>\n",
       "      <td>0.005424</td>\n",
       "      <td>Contra Costa</td>\n",
       "      <td>52</td>\n",
       "      <td>0.146</td>\n",
       "      <td>0.310</td>\n",
       "      <td>0.464</td>\n",
       "      <td>0.629</td>\n",
       "      <td>0.089</td>\n",
       "      <td>0.004</td>\n",
       "      <td>0.152</td>\n",
       "      <td>0.004</td>\n",
       "      <td>0.184</td>\n",
       "    </tr>\n",
       "  </tbody>\n",
       "</table>\n",
       "</div>"
      ],
      "text/plain": [
       "   Unnamed: 0  FEMA  FEMA_Adjascent  Median_Income  Percent_Own  \\\n",
       "0           1     0               0          49580     0.535176   \n",
       "1           3     0               0          35010     0.765040   \n",
       "2           4     1               0          28642     0.589909   \n",
       "3           5     0               0          30442     0.777535   \n",
       "4           7     0               0          46590     0.659231   \n",
       "\n",
       "   Med_Home_Price  IPC_BEFORE  IPC_AFTER        County  \\\n",
       "0        910500.0    0.000032   0.000032       Alameda   \n",
       "1        323000.0    0.008503   0.009786        Amador   \n",
       "2        358875.0    0.009741   0.013413         Butte   \n",
       "3        339750.0    0.001155   0.001155     Calaveras   \n",
       "4        662500.0    0.005066   0.005424  Contra Costa   \n",
       "\n",
       "   Median_Age_House_Holder  Educ_HS_Grad  Educ_Some_College  \\\n",
       "0                       49         0.144              0.249   \n",
       "1                       61         0.233              0.471   \n",
       "2                       53         0.192              0.435   \n",
       "3                       61         0.221              0.486   \n",
       "4                       52         0.146              0.310   \n",
       "\n",
       "   Educ_Bachelor_or_Higher  Race_White  Race_Black_AA  \\\n",
       "0                    0.518       0.468          0.124   \n",
       "1                    0.233       0.929          0.001   \n",
       "2                    0.292       0.870          0.012   \n",
       "3                    0.221       0.926          0.005   \n",
       "4                    0.464       0.629          0.089   \n",
       "\n",
       "   Race_American_Indian_and_Alaska_Native  Race_Asian  \\\n",
       "0                                   0.007       0.273   \n",
       "1                                   0.005       0.008   \n",
       "2                                   0.012       0.031   \n",
       "3                                   0.009       0.015   \n",
       "4                                   0.004       0.152   \n",
       "\n",
       "   Race_Native_Hawaiian_and_Other_Pacific_Islander  \\\n",
       "0                                            0.007   \n",
       "1                                            0.000   \n",
       "2                                            0.001   \n",
       "3                                            0.001   \n",
       "4                                            0.004   \n",
       "\n",
       "   Race_Hispanic_or_Latino_origin  \n",
       "0                           0.164  \n",
       "1                           0.084  \n",
       "2                           0.116  \n",
       "3                           0.084  \n",
       "4                           0.184  "
      ]
     },
     "execution_count": 53,
     "metadata": {},
     "output_type": "execute_result"
    }
   ],
   "source": [
    "# Explore data\n",
    "TD0.head()\n",
    "\n"
   ]
  },
  {
   "cell_type": "code",
   "execution_count": 54,
   "metadata": {},
   "outputs": [
    {
     "data": {
      "text/plain": [
       "<matplotlib.collections.PathCollection at 0x29a77e7ec30>"
      ]
     },
     "execution_count": 54,
     "metadata": {},
     "output_type": "execute_result"
    },
    {
     "data": {
      "image/png": "[encoded data removed]",
      "text/plain": [
       "<Figure size 640x480 with 1 Axes>"
      ]
     },
     "metadata": {},
     "output_type": "display_data"
    }
   ],
   "source": [
    "x1 = TD0['County']\n",
    "y1 = TD0['IPC_AFTER']\n",
    "plt.scatter(x1, y1)\n"
   ]
  },
  {
   "cell_type": "code",
   "execution_count": 55,
   "metadata": {},
   "outputs": [],
   "source": [
    "# Omit unnamed column and IPC_BEFORE (this is a legacy of my previous research)\n",
    "TD1 = TD0.drop(['Unnamed: 0', 'IPC_BEFORE'], axis = 1)\n"
   ]
  },
  {
   "cell_type": "code",
   "execution_count": null,
   "metadata": {},
   "outputs": [],
   "source": []
  },
  {
   "cell_type": "markdown",
   "metadata": {},
   "source": [
    "# Methods"
   ]
  },
  {
   "cell_type": "markdown",
   "metadata": {},
   "source": []
  },
  {
   "cell_type": "code",
   "execution_count": 56,
   "metadata": {},
   "outputs": [
    {
     "data": {
      "text/plain": [
       "Index(['Unnamed: 0', 'FEMA', 'FEMA_Adjascent', 'Median_Income', 'Percent_Own',\n",
       "       'Med_Home_Price', 'IPC_BEFORE', 'IPC_AFTER', 'County',\n",
       "       'Median_Age_House_Holder', 'Educ_HS_Grad', 'Educ_Some_College',\n",
       "       'Educ_Bachelor_or_Higher', 'Race_White', 'Race_Black_AA',\n",
       "       'Race_American_Indian_and_Alaska_Native', 'Race_Asian',\n",
       "       'Race_Native_Hawaiian_and_Other_Pacific_Islander',\n",
       "       'Race_Hispanic_or_Latino_origin'],\n",
       "      dtype='object')"
      ]
     },
     "execution_count": 56,
     "metadata": {},
     "output_type": "execute_result"
    }
   ],
   "source": [
    "# Test 1 - IPC ~ X using simple OLS\n",
    "TD0.columns\n"
   ]
  },
  {
   "cell_type": "code",
   "execution_count": 103,
   "metadata": {},
   "outputs": [
    {
     "name": "stdout",
     "output_type": "stream",
     "text": [
      "                            OLS Regression Results                            \n",
      "==============================================================================\n",
      "Dep. Variable:              IPC_AFTER   R-squared:                       0.003\n",
      "Model:                            OLS   Adj. R-squared:                 -0.017\n",
      "Method:                 Least Squares   F-statistic:                    0.1558\n",
      "Date:                Sat, 15 Jun 2024   Prob (F-statistic):              0.695\n",
      "Time:                        14:59:32   Log-Likelihood:                 103.53\n",
      "No. Observations:                  53   AIC:                            -203.1\n",
      "Df Residuals:                      51   BIC:                            -199.1\n",
      "Df Model:                           1                                         \n",
      "Covariance Type:            nonrobust                                         \n",
      "=================================================================================\n",
      "                    coef    std err          t      P>|t|      [0.025      0.975]\n",
      "---------------------------------------------------------------------------------\n",
      "Intercept         0.0187      0.020      0.932      0.356      -0.022       0.059\n",
      "Median_Income   -2.2e-07   5.57e-07     -0.395      0.695   -1.34e-06    8.99e-07\n",
      "==============================================================================\n",
      "Omnibus:                       87.394   Durbin-Watson:                   2.131\n",
      "Prob(Omnibus):                  0.000   Jarque-Bera (JB):             1213.422\n",
      "Skew:                           4.794   Prob(JB):                    3.23e-264\n",
      "Kurtosis:                      24.391   Cond. No.                     1.50e+05\n",
      "==============================================================================\n",
      "\n",
      "Notes:\n",
      "[1] Standard Errors assume that the covariance matrix of the errors is correctly specified.\n",
      "[2] The condition number is large, 1.5e+05. This might indicate that there are\n",
      "strong multicollinearity or other numerical problems.\n"
     ]
    }
   ],
   "source": [
    "reg1 = smf.ols(formula = 'IPC_AFTER ~ Median_Income', data = TD0).fit()\n",
    "print(reg1.summary())"
   ]
  },
  {
   "cell_type": "code",
   "execution_count": 104,
   "metadata": {},
   "outputs": [
    {
     "name": "stdout",
     "output_type": "stream",
     "text": [
      "                            OLS Regression Results                            \n",
      "==============================================================================\n",
      "Dep. Variable:              IPC_AFTER   R-squared:                       0.017\n",
      "Model:                            OLS   Adj. R-squared:                 -0.022\n",
      "Method:                 Least Squares   F-statistic:                    0.4438\n",
      "Date:                Sat, 15 Jun 2024   Prob (F-statistic):              0.644\n",
      "Time:                        15:00:01   Log-Likelihood:                 103.92\n",
      "No. Observations:                  53   AIC:                            -201.8\n",
      "Df Residuals:                      50   BIC:                            -195.9\n",
      "Df Model:                           2                                         \n",
      "Covariance Type:            nonrobust                                         \n",
      "=================================================================================\n",
      "                    coef    std err          t      P>|t|      [0.025      0.975]\n",
      "---------------------------------------------------------------------------------\n",
      "Intercept        -0.0164      0.046     -0.359      0.721      -0.108       0.075\n",
      "Median_Income -1.624e-07   5.63e-07     -0.288      0.774   -1.29e-06    9.68e-07\n",
      "Percent_Own       0.0539      0.063      0.856      0.396      -0.073       0.180\n",
      "==============================================================================\n",
      "Omnibus:                       86.324   Durbin-Watson:                   2.049\n",
      "Prob(Omnibus):                  0.000   Jarque-Bera (JB):             1163.062\n",
      "Skew:                           4.716   Prob(JB):                    2.78e-253\n",
      "Kurtosis:                      23.921   Cond. No.                     5.66e+05\n",
      "==============================================================================\n",
      "\n",
      "Notes:\n",
      "[1] Standard Errors assume that the covariance matrix of the errors is correctly specified.\n",
      "[2] The condition number is large, 5.66e+05. This might indicate that there are\n",
      "strong multicollinearity or other numerical problems.\n"
     ]
    }
   ],
   "source": [
    "reg2 = smf.ols(formula = 'IPC_AFTER ~ Median_Income + Percent_Own', data = TD0).fit()\n",
    "print(reg2.summary())"
   ]
  },
  {
   "cell_type": "code",
   "execution_count": 105,
   "metadata": {},
   "outputs": [
    {
     "name": "stdout",
     "output_type": "stream",
     "text": [
      "                            OLS Regression Results                            \n",
      "==============================================================================\n",
      "Dep. Variable:              IPC_AFTER   R-squared:                       0.024\n",
      "Model:                            OLS   Adj. R-squared:                 -0.036\n",
      "Method:                 Least Squares   F-statistic:                    0.3992\n",
      "Date:                Sat, 15 Jun 2024   Prob (F-statistic):              0.754\n",
      "Time:                        15:00:04   Log-Likelihood:                 104.09\n",
      "No. Observations:                  53   AIC:                            -200.2\n",
      "Df Residuals:                      49   BIC:                            -192.3\n",
      "Df Model:                           3                                         \n",
      "Covariance Type:            nonrobust                                         \n",
      "===========================================================================================\n",
      "                              coef    std err          t      P>|t|      [0.025      0.975]\n",
      "-------------------------------------------------------------------------------------------\n",
      "Intercept                  -0.0513      0.077     -0.668      0.507      -0.206       0.103\n",
      "Median_Income           -1.442e-07   5.68e-07     -0.254      0.801   -1.29e-06    9.97e-07\n",
      "Percent_Own                 0.0051      0.107      0.047      0.962      -0.210       0.220\n",
      "Median_Age_House_Holder     0.0012      0.002      0.567      0.573      -0.003       0.005\n",
      "==============================================================================\n",
      "Omnibus:                       85.380   Durbin-Watson:                   2.047\n",
      "Prob(Omnibus):                  0.000   Jarque-Bera (JB):             1123.592\n",
      "Skew:                           4.646   Prob(JB):                    1.04e-244\n",
      "Kurtosis:                      23.553   Cond. No.                     8.29e+05\n",
      "==============================================================================\n",
      "\n",
      "Notes:\n",
      "[1] Standard Errors assume that the covariance matrix of the errors is correctly specified.\n",
      "[2] The condition number is large, 8.29e+05. This might indicate that there are\n",
      "strong multicollinearity or other numerical problems.\n"
     ]
    }
   ],
   "source": [
    "reg3 = smf.ols(formula = 'IPC_AFTER ~ Median_Income + Percent_Own + Median_Age_House_Holder', data = TD0).fit()\n",
    "print(reg3.summary())"
   ]
  },
  {
   "cell_type": "code",
   "execution_count": 106,
   "metadata": {},
   "outputs": [
    {
     "name": "stdout",
     "output_type": "stream",
     "text": [
      "                            OLS Regression Results                            \n",
      "==============================================================================\n",
      "Dep. Variable:              IPC_AFTER   R-squared:                       0.025\n",
      "Model:                            OLS   Adj. R-squared:                 -0.057\n",
      "Method:                 Least Squares   F-statistic:                    0.3046\n",
      "Date:                Sat, 15 Jun 2024   Prob (F-statistic):              0.873\n",
      "Time:                        15:00:06   Log-Likelihood:                 104.12\n",
      "No. Observations:                  53   AIC:                            -198.2\n",
      "Df Residuals:                      48   BIC:                            -188.4\n",
      "Df Model:                           4                                         \n",
      "Covariance Type:            nonrobust                                         \n",
      "===========================================================================================\n",
      "                              coef    std err          t      P>|t|      [0.025      0.975]\n",
      "-------------------------------------------------------------------------------------------\n",
      "Intercept                  -0.0489      0.079     -0.622      0.537      -0.207       0.109\n",
      "Median_Income           -2.734e-07    8.4e-07     -0.326      0.746   -1.96e-06    1.42e-06\n",
      "Percent_Own                 0.0165      0.121      0.137      0.892      -0.227       0.260\n",
      "Median_Age_House_Holder     0.0013      0.002      0.595      0.555      -0.003       0.006\n",
      "Educ_Some_College          -0.0287      0.136     -0.211      0.834      -0.302       0.245\n",
      "==============================================================================\n",
      "Omnibus:                       85.168   Durbin-Watson:                   2.039\n",
      "Prob(Omnibus):                  0.000   Jarque-Bera (JB):             1113.178\n",
      "Skew:                           4.632   Prob(JB):                    1.89e-242\n",
      "Kurtosis:                      23.451   Cond. No.                     1.16e+06\n",
      "==============================================================================\n",
      "\n",
      "Notes:\n",
      "[1] Standard Errors assume that the covariance matrix of the errors is correctly specified.\n",
      "[2] The condition number is large, 1.16e+06. This might indicate that there are\n",
      "strong multicollinearity or other numerical problems.\n"
     ]
    }
   ],
   "source": [
    "reg4 = smf.ols(formula = 'IPC_AFTER ~ Median_Income + Percent_Own + Median_Age_House_Holder + Educ_Some_College', data = TD0).fit()\n",
    "print(reg4.summary())"
   ]
  },
  {
   "cell_type": "code",
   "execution_count": 107,
   "metadata": {},
   "outputs": [
    {
     "name": "stdout",
     "output_type": "stream",
     "text": [
      "                            OLS Regression Results                            \n",
      "==============================================================================\n",
      "Dep. Variable:              IPC_AFTER   R-squared:                       0.033\n",
      "Model:                            OLS   Adj. R-squared:                 -0.070\n",
      "Method:                 Least Squares   F-statistic:                    0.3175\n",
      "Date:                Sat, 15 Jun 2024   Prob (F-statistic):              0.900\n",
      "Time:                        15:00:08   Log-Likelihood:                 104.33\n",
      "No. Observations:                  53   AIC:                            -196.7\n",
      "Df Residuals:                      47   BIC:                            -184.8\n",
      "Df Model:                           5                                         \n",
      "Covariance Type:            nonrobust                                         \n",
      "===========================================================================================\n",
      "                              coef    std err          t      P>|t|      [0.025      0.975]\n",
      "-------------------------------------------------------------------------------------------\n",
      "Intercept                  -0.0358      0.082     -0.438      0.663      -0.200       0.129\n",
      "Median_Income           -2.075e-07   8.52e-07     -0.244      0.809   -1.92e-06    1.51e-06\n",
      "Percent_Own                 0.0120      0.122      0.098      0.922      -0.233       0.257\n",
      "Median_Age_House_Holder     0.0006      0.002      0.242      0.810      -0.004       0.006\n",
      "Educ_Some_College          -0.0524      0.142     -0.368      0.714      -0.339       0.234\n",
      "Race_White                  0.0435      0.070      0.620      0.538      -0.098       0.185\n",
      "==============================================================================\n",
      "Omnibus:                       84.451   Durbin-Watson:                   2.027\n",
      "Prob(Omnibus):                  0.000   Jarque-Bera (JB):             1073.015\n",
      "Skew:                           4.588   Prob(JB):                    9.95e-234\n",
      "Kurtosis:                      23.042   Cond. No.                     1.18e+06\n",
      "==============================================================================\n",
      "\n",
      "Notes:\n",
      "[1] Standard Errors assume that the covariance matrix of the errors is correctly specified.\n",
      "[2] The condition number is large, 1.18e+06. This might indicate that there are\n",
      "strong multicollinearity or other numerical problems.\n"
     ]
    }
   ],
   "source": [
    "reg5 = smf.ols(formula = 'IPC_AFTER ~ Median_Income + Percent_Own + Median_Age_House_Holder + Educ_Some_College + Race_White', data = TD0).fit()\n",
    "print(reg5.summary())"
   ]
  },
  {
   "cell_type": "markdown",
   "metadata": {},
   "source": [
    "#### Test 2 - Random forest for causal factors"
   ]
  },
  {
   "cell_type": "markdown",
   "metadata": {},
   "source": [
    "Goven the small number of observations and the low p-values in the initial tests, predictions using machine learning is not feasible. However, I can use random forests to find the largest contributing factors in an alternative causal inference model."
   ]
  },
  {
   "cell_type": "code",
   "execution_count": null,
   "metadata": {},
   "outputs": [],
   "source": []
  },
  {
   "cell_type": "markdown",
   "metadata": {},
   "source": [
    "# Results"
   ]
  },
  {
   "cell_type": "markdown",
   "metadata": {},
   "source": []
  },
  {
   "cell_type": "code",
   "execution_count": 41,
   "metadata": {},
   "outputs": [
    {
     "name": "stdout",
     "output_type": "stream",
     "text": [
      "                            OLS Regression Results                            \n",
      "==============================================================================\n",
      "Dep. Variable:              IPC_AFTER   R-squared:                       0.033\n",
      "Model:                            OLS   Adj. R-squared:                 -0.070\n",
      "Method:                 Least Squares   F-statistic:                    0.3175\n",
      "Date:                Sat, 15 Jun 2024   Prob (F-statistic):              0.900\n",
      "Time:                        13:48:38   Log-Likelihood:                 104.33\n",
      "No. Observations:                  53   AIC:                            -196.7\n",
      "Df Residuals:                      47   BIC:                            -184.8\n",
      "Df Model:                           5                                         \n",
      "Covariance Type:            nonrobust                                         \n",
      "===========================================================================================\n",
      "                              coef    std err          t      P>|t|      [0.025      0.975]\n",
      "-------------------------------------------------------------------------------------------\n",
      "Intercept                  -0.0358      0.082     -0.438      0.663      -0.200       0.129\n",
      "Median_Income           -2.075e-07   8.52e-07     -0.244      0.809   -1.92e-06    1.51e-06\n",
      "Percent_Own                 0.0120      0.122      0.098      0.922      -0.233       0.257\n",
      "Median_Age_House_Holder     0.0006      0.002      0.242      0.810      -0.004       0.006\n",
      "Educ_Some_College          -0.0524      0.142     -0.368      0.714      -0.339       0.234\n",
      "Race_White                  0.0435      0.070      0.620      0.538      -0.098       0.185\n",
      "==============================================================================\n",
      "Omnibus:                       84.451   Durbin-Watson:                   2.027\n",
      "Prob(Omnibus):                  0.000   Jarque-Bera (JB):             1073.015\n",
      "Skew:                           4.588   Prob(JB):                    9.95e-234\n",
      "Kurtosis:                      23.042   Cond. No.                     1.18e+06\n",
      "==============================================================================\n",
      "\n",
      "Notes:\n",
      "[1] Standard Errors assume that the covariance matrix of the errors is correctly specified.\n",
      "[2] The condition number is large, 1.18e+06. This might indicate that there are\n",
      "strong multicollinearity or other numerical problems.\n"
     ]
    }
   ],
   "source": [
    "# Test 1 results\n"
   ]
  },
  {
   "cell_type": "markdown",
   "metadata": {},
   "source": [
    "A simple cross-sectional analysis of 53 California counties is simply not enough data to determine the main factors behind solar adoption with a high degree of certainty. However, some insights can be gleaned from test 1:\n",
    "- The lowest p-value is on race_white. Since race is highly correlated with age, education, income, and home ownership, this is not surprising. It is logical to beliee that each of these is an important factor in the decision to adopt solar power, and the prevalence of these factors among the older, wealthier white population makes sense."
   ]
  },
  {
   "cell_type": "markdown",
   "metadata": {},
   "source": [
    "# Discussion"
   ]
  },
  {
   "cell_type": "markdown",
   "metadata": {},
   "source": [
    "Results have high p-values and do not lend themselves to accurate causdal inference or prediction models. "
   ]
  },
  {
   "cell_type": "markdown",
   "metadata": {},
   "source": [
    "# References"
   ]
  },
  {
   "cell_type": "markdown",
   "metadata": {},
   "source": []
  }
 ],
 "metadata": {
  "kernelspec": {
   "display_name": "Python 3",
   "language": "python",
   "name": "python3"
  },
  "language_info": {
   "codemirror_mode": {
    "name": "ipython",
    "version": 3
   },
   "file_extension": ".py",
   "mimetype": "text/x-python",
   "name": "python",
   "nbconvert_exporter": "python",
   "pygments_lexer": "ipython3",
   "version": "3.12.2"
  }
 },
 "nbformat": 4,
 "nbformat_minor": 2
}
